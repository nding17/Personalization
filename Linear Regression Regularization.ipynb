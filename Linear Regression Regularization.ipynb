{
 "cells": [
  {
   "cell_type": "code",
   "execution_count": 1,
   "metadata": {},
   "outputs": [],
   "source": [
    "import pandas as pd\n",
    "import numpy as np\n",
    "from sklearn.model_selection import train_test_split\n",
    "from scipy.optimize import minimize\n",
    "import matplotlib.pyplot as plt\n",
    "import warnings\n",
    "warnings.filterwarnings('ignore')\n",
    "np.random.seed(42)"
   ]
  },
  {
   "cell_type": "markdown",
   "metadata": {},
   "source": [
    "## Setup\n",
    "-----"
   ]
  },
  {
   "cell_type": "code",
   "execution_count": 2,
   "metadata": {},
   "outputs": [
    {
     "name": "stdout",
     "output_type": "stream",
     "text": [
      "train features: (1279, 11), train output: (1279,)\n",
      "test features: (320, 11), test output: (320,)\n"
     ]
    }
   ],
   "source": [
    "data = pd.read_csv('./winequalityred.csv', sep=';')\n",
    "features = data.columns.difference(['quality'])\n",
    "X, y = data[features].values, data['quality'].values\n",
    "X_train, X_test, y_train, y_test = train_test_split(X, y, test_size=0.2, random_state=42)\n",
    "\n",
    "print(f\"\"\"train features: {X_train.shape}, train output: {y_train.shape}\n",
    "test features: {X_test.shape}, test output: {y_test.shape}\"\"\")"
   ]
  },
  {
   "cell_type": "markdown",
   "metadata": {},
   "source": [
    "## Regression equations and functions \n",
    "-----"
   ]
  },
  {
   "cell_type": "code",
   "execution_count": 3,
   "metadata": {},
   "outputs": [],
   "source": [
    "def y_hat(X, beta):\n",
    "    return np.sum(beta*X, axis=1)\n",
    "\n",
    "def RSS(beta, X, y):\n",
    "    return np.sum((y-y_hat(X,beta))**2)"
   ]
  },
  {
   "cell_type": "markdown",
   "metadata": {},
   "source": [
    "## Optimize the model\n",
    "------\n",
    "\n",
    "Q1\n",
    ">Notice that from the table below, some features are associated with negative coefficients, for example, chlorides, citric acid, pH etc. Some features are associated with positive coefficients, like, alcohol, density, fixed acidity etc. This means that, an increase in the alcohol would have a positive effect on the quality of the wine, and an increase in chlorides would likely have a negative effect on the quality. For example, one unit increase in alcohol will cause 0.29 unit increase in the quality of the wine, same goes for the other predictor variables. \n",
    ">\n",
    ">By looking at the coefficients, we can see that density is the most important feature for the regression model as it carries the largest coefficient. Further, the magnitude of the features in X may not affect the results since for features with large magnitude, their coefficients would likely be less significant than the features with small magnitude. The coefficients will adjust the final contribution of the features to the result. \n"
   ]
  },
  {
   "cell_type": "code",
   "execution_count": 4,
   "metadata": {},
   "outputs": [
    {
     "data": {
      "text/html": [
       "<div>\n",
       "<style scoped>\n",
       "    .dataframe tbody tr th:only-of-type {\n",
       "        vertical-align: middle;\n",
       "    }\n",
       "\n",
       "    .dataframe tbody tr th {\n",
       "        vertical-align: top;\n",
       "    }\n",
       "\n",
       "    .dataframe thead th {\n",
       "        text-align: right;\n",
       "    }\n",
       "</style>\n",
       "<table border=\"1\" class=\"dataframe\">\n",
       "  <thead>\n",
       "    <tr style=\"text-align: right;\">\n",
       "      <th></th>\n",
       "      <th>coefficient</th>\n",
       "    </tr>\n",
       "    <tr>\n",
       "      <th>feature</th>\n",
       "      <th></th>\n",
       "    </tr>\n",
       "  </thead>\n",
       "  <tbody>\n",
       "    <tr>\n",
       "      <th>alcohol</th>\n",
       "      <td>0.295313</td>\n",
       "    </tr>\n",
       "    <tr>\n",
       "      <th>chlorides</th>\n",
       "      <td>-1.824269</td>\n",
       "    </tr>\n",
       "    <tr>\n",
       "      <th>citric acid</th>\n",
       "      <td>-0.142352</td>\n",
       "    </tr>\n",
       "    <tr>\n",
       "      <th>density</th>\n",
       "      <td>4.292255</td>\n",
       "    </tr>\n",
       "    <tr>\n",
       "      <th>fixed acidity</th>\n",
       "      <td>0.009774</td>\n",
       "    </tr>\n",
       "    <tr>\n",
       "      <th>free sulfur dioxide</th>\n",
       "      <td>0.005777</td>\n",
       "    </tr>\n",
       "    <tr>\n",
       "      <th>pH</th>\n",
       "      <td>-0.464661</td>\n",
       "    </tr>\n",
       "    <tr>\n",
       "      <th>residual sugar</th>\n",
       "      <td>0.000368</td>\n",
       "    </tr>\n",
       "    <tr>\n",
       "      <th>sulphates</th>\n",
       "      <td>0.822091</td>\n",
       "    </tr>\n",
       "    <tr>\n",
       "      <th>total sulfur dioxide</th>\n",
       "      <td>-0.003686</td>\n",
       "    </tr>\n",
       "    <tr>\n",
       "      <th>volatile acidity</th>\n",
       "      <td>-1.011751</td>\n",
       "    </tr>\n",
       "  </tbody>\n",
       "</table>\n",
       "</div>"
      ],
      "text/plain": [
       "                      coefficient\n",
       "feature                          \n",
       "alcohol                  0.295313\n",
       "chlorides               -1.824269\n",
       "citric acid             -0.142352\n",
       "density                  4.292255\n",
       "fixed acidity            0.009774\n",
       "free sulfur dioxide      0.005777\n",
       "pH                      -0.464661\n",
       "residual sugar           0.000368\n",
       "sulphates                0.822091\n",
       "total sulfur dioxide    -0.003686\n",
       "volatile acidity        -1.011751"
      ]
     },
     "execution_count": 4,
     "metadata": {},
     "output_type": "execute_result"
    }
   ],
   "source": [
    "beta0 = np.random.normal(0, 1, X_train.shape[1])\n",
    "res = minimize(fun=RSS, x0=beta0, args=(X_train, y_train))\n",
    "beta_hat = res.x\n",
    "df_beta = pd.DataFrame(list(zip(features, beta_hat)), columns=['feature', 'coefficient'])\n",
    "df_beta.set_index('feature')"
   ]
  },
  {
   "cell_type": "code",
   "execution_count": 5,
   "metadata": {},
   "outputs": [],
   "source": [
    "X_train_norm = (X_train - X_train.min()) / (X_train.max() - X_train.min())\n",
    "X_test_norm = (X_test - X_test.min()) / (X_test.max() - X_test.min())\n",
    "\n",
    "res_norm = minimize(fun=RSS, x0=beta0, args=(X_train_norm, y_train))\n",
    "beta_hat_norm = res_norm.x"
   ]
  },
  {
   "cell_type": "markdown",
   "metadata": {},
   "source": [
    "Q2\n",
    "> The RSS for test dataset is 125.1, a lot smaller compared to the RSS for train dataset, which is 542.7 \n",
    ">\n",
    ">The RSS does change after the features in X having been normalized, the test RSS increases to 135.9; however, the RSS for the train dataset does not change "
   ]
  },
  {
   "cell_type": "code",
   "execution_count": 6,
   "metadata": {},
   "outputs": [
    {
     "name": "stdout",
     "output_type": "stream",
     "text": [
      "train RSS: 542.6975235743919, test RSS: 125.0661874703074\n"
     ]
    }
   ],
   "source": [
    "RSS_train = RSS(beta_hat, X_train, y_train)\n",
    "RSS_test = RSS(beta_hat, X_test, y_test)\n",
    "\n",
    "print(f'train RSS: {RSS_train}, test RSS: {RSS_test}')"
   ]
  },
  {
   "cell_type": "code",
   "execution_count": 7,
   "metadata": {},
   "outputs": [
    {
     "name": "stdout",
     "output_type": "stream",
     "text": [
      "normalized train RSS: 542.6975235855646, normalized test RSS: 135.8731127655568\n"
     ]
    }
   ],
   "source": [
    "RSS_train_norm = RSS(beta_hat_norm, X_train_norm, y_train)\n",
    "RSS_test_norm = RSS(beta_hat_norm, X_test_norm, y_test)\n",
    "\n",
    "print(f'normalized train RSS: {RSS_train_norm}, normalized test RSS: {RSS_test_norm}')"
   ]
  },
  {
   "cell_type": "markdown",
   "metadata": {},
   "source": [
    "Q3\n",
    "> Notice that the RSS on test dataset does not change with different initial values of $\\beta$. I have tried $\\beta$ with different magnitudes, ranging from (1,10) to (1000,10000), and the RSS for the test dataset always converges to 125. Therefore, with different $\\beta$'s, the end result would not change."
   ]
  },
  {
   "cell_type": "code",
   "execution_count": 8,
   "metadata": {},
   "outputs": [
    {
     "name": "stdout",
     "output_type": "stream",
     "text": [
      "for beta0 between 1.0 and 10.0\n",
      "\tRSS for test dataset is 125.0661854027641\n",
      "for beta0 between 10.0 and 100.0\n",
      "\tRSS for test dataset is 125.0661898000281\n",
      "for beta0 between 100.0 and 1000.0\n",
      "\tRSS for test dataset is 125.06618918202712\n",
      "for beta0 between 1000.0 and 10000.0\n",
      "\tRSS for test dataset is 125.06618905790364\n"
     ]
    }
   ],
   "source": [
    "beta_limit = np.geomspace(1,10000,num=5)\n",
    "beta0s = [np.random.normal(beta_limit[i], \n",
    "                           beta_limit[i+1], \n",
    "                           X_train.shape[1]) \n",
    "              for i in range(len(beta_limit)-1)]\n",
    "\n",
    "for i, beta0 in enumerate(beta0s):\n",
    "    print(f'for beta0 between {beta_limit[i]} and {beta_limit[i+1]}')\n",
    "    res = minimize(fun=RSS, x0=beta0, args=(X_train, y_train))\n",
    "    beta_hat = res.x\n",
    "    RSS_test = RSS(beta_hat, X_test, y_test)\n",
    "    print(f'\\tRSS for test dataset is {RSS_test}')"
   ]
  },
  {
   "cell_type": "markdown",
   "metadata": {},
   "source": [
    "Q4\n",
    "\n",
    ">Notice from the printouts below, different solver methods might yield different RSS for the test dataset. For example, using COBYLA the RSS is 2447.9, the RSS is 215.3 by using Nelder-Mead, and the RSS is 138.7 by using TNC. Therefore, using different solver methods might yield different end results"
   ]
  },
  {
   "cell_type": "code",
   "execution_count": 9,
   "metadata": {},
   "outputs": [
    {
     "name": "stdout",
     "output_type": "stream",
     "text": [
      "solver: Nelder-Mead\n",
      "\tRSS for test dataset is 215.30562778483807\n",
      "solver: Powell\n",
      "\tRSS for test dataset is 125.06436929756526\n",
      "solver: CG\n",
      "\tRSS for test dataset is 125.06634229096485\n",
      "solver: BFGS\n",
      "\tRSS for test dataset is 125.06618945680047\n",
      "solver: L-BFGS-B\n",
      "\tRSS for test dataset is 125.08060835571838\n",
      "solver: TNC\n",
      "\tRSS for test dataset is 138.7222032126652\n",
      "solver: COBYLA\n",
      "\tRSS for test dataset is 2447.9100906092835\n",
      "solver: SLSQP\n",
      "\tRSS for test dataset is 125.06622228040257\n",
      "solver: trust-constr\n",
      "\tRSS for test dataset is 125.06619672915168\n"
     ]
    }
   ],
   "source": [
    "solvers = ['Nelder-Mead',\n",
    "           'Powell',\n",
    "           'CG',\n",
    "           'BFGS',\n",
    "           'L-BFGS-B',\n",
    "           'TNC',\n",
    "           'COBYLA',\n",
    "           'SLSQP',\n",
    "           'trust-constr']\n",
    "\n",
    "for solver in solvers:\n",
    "    beta0 = np.random.normal(0, 1, X_train.shape[1])\n",
    "    print(f'solver: {solver}')\n",
    "    res = minimize(fun=RSS, x0=beta0, args=(X_train, y_train), method=solver)\n",
    "    beta_hat = res.x\n",
    "    RSS_test = RSS(beta_hat, X_test, y_test)\n",
    "    print(f'\\tRSS for test dataset is {RSS_test}')"
   ]
  },
  {
   "cell_type": "markdown",
   "metadata": {},
   "source": [
    "## Regularizing the model\n",
    "____\n",
    "\n",
    "Q1\n",
    "> The RSS for both train and test datasets doesn't change much. The difference is very insignificant assuming $\\lambda$ = 0.01. RSS for train dataset is 542.7 and RSS for test dataset is 125.1"
   ]
  },
  {
   "cell_type": "code",
   "execution_count": 10,
   "metadata": {},
   "outputs": [
    {
     "name": "stdout",
     "output_type": "stream",
     "text": [
      "RSS for train dataset: 542.7001792866943, RSS for test dataset: 125.09934905395255\n"
     ]
    }
   ],
   "source": [
    "def RSSL2(beta, X, y, lmbda=0.01):\n",
    "    return np.sum((y-y_hat(X,beta))**2) + lmbda*np.sum(beta**2)\n",
    "\n",
    "res_ridge = minimize(fun=RSSL2, x0=beta0, args=(X_train, y_train))\n",
    "beta_hat = res_ridge.x\n",
    "RSS_train = RSS(beta_hat, X_train, y_train)\n",
    "RSS_test = RSS(beta_hat, X_test, y_test)\n",
    "print(f'RSS for train dataset: {RSS_train}, RSS for test dataset: {RSS_test}')"
   ]
  },
  {
   "cell_type": "markdown",
   "metadata": {},
   "source": [
    "Q2\n",
    "\n",
    "> As you can see from the graph below, RSS does not converge when $\\lambda$ gets bigger. Instead, it's increasing, so it would not be possible to tune $\\lambda$ to obtain the best result in the test data by using Ridge Regression. "
   ]
  },
  {
   "cell_type": "code",
   "execution_count": 11,
   "metadata": {},
   "outputs": [],
   "source": [
    "lmbdas = np.geomspace(0.1, 10, num=100)\n",
    "RSS_ridges = np.empty(0)\n",
    "\n",
    "for lmbda in lmbdas:\n",
    "    res_ridge = minimize(fun=RSSL2, x0=beta0, args=(X_train, y_train, lmbda))\n",
    "    beta_hat = res_ridge.x\n",
    "    RSS_test = RSS(beta_hat, X_test, y_test)\n",
    "    RSS_ridges = np.append(RSS_ridges, RSS_test)"
   ]
  },
  {
   "cell_type": "code",
   "execution_count": 12,
   "metadata": {},
   "outputs": [
    {
     "data": {
      "text/plain": [
       "Text(0.5, 1.0, 'L2 Regularization')"
      ]
     },
     "execution_count": 12,
     "metadata": {},
     "output_type": "execute_result"
    },
    {
     "data": {
      "image/png": "[encoded data removed]",
      "text/plain": [
       "<Figure size 432x288 with 1 Axes>"
      ]
     },
     "metadata": {
      "needs_background": "light"
     },
     "output_type": "display_data"
    }
   ],
   "source": [
    "plt.plot(lmbdas, RSS_ridges)\n",
    "plt.xlabel('$\\lambda$')\n",
    "plt.ylabel('RSS')\n",
    "plt.title('L2 Regularization')"
   ]
  },
  {
   "cell_type": "markdown",
   "metadata": {},
   "source": [
    "Q3\n",
    "\n",
    "> The RSS of LASSO Regression on both the train and test datasets is almost the same as regular regression. The RSS on train dataset is 542.7, and the RSS on test dataset is 125.1. The RSS for LASSO regression still doesn't converge when different values for $\\lambda$ were applied. Therefore, you can't really tune $\\lambda$ to get the best result as shown in the plot below. "
   ]
  },
  {
   "cell_type": "code",
   "execution_count": 13,
   "metadata": {},
   "outputs": [
    {
     "name": "stdout",
     "output_type": "stream",
     "text": [
      "RSS for train dataset: 542.6977968125891, RSS for test dataset: 125.08037713635298\n"
     ]
    }
   ],
   "source": [
    "def RSSL1(beta, X, y, lmbda=0.01):\n",
    "    return 0.5*np.sum((y-y_hat(X,beta))**2) + lmbda*np.sum(np.abs(beta))\n",
    "\n",
    "res_lasso = minimize(fun=RSSL1, x0=beta0, args=(X_train, y_train))\n",
    "beta_hat = res_lasso.x\n",
    "RSS_train = RSS(beta_hat, X_train, y_train)\n",
    "RSS_test = RSS(beta_hat, X_test, y_test)\n",
    "print(f'RSS for train dataset: {RSS_train}, RSS for test dataset: {RSS_test}')"
   ]
  },
  {
   "cell_type": "code",
   "execution_count": 14,
   "metadata": {},
   "outputs": [],
   "source": [
    "lmbdas = np.geomspace(0.01, 10, num=100)\n",
    "RSS_lassos = np.empty(0)\n",
    "\n",
    "for lmbda in lmbdas:\n",
    "    res_lasso = minimize(fun=RSSL1, x0=beta0, args=(X_train, y_train, lmbda))\n",
    "    beta_hat = res_lasso.x\n",
    "    RSS_test = RSS(beta_hat, X_test, y_test)\n",
    "    RSS_lassos = np.append(RSS_lassos, RSS_test)"
   ]
  },
  {
   "cell_type": "code",
   "execution_count": 15,
   "metadata": {},
   "outputs": [
    {
     "data": {
      "text/plain": [
       "Text(0.5, 1.0, 'L1 Regularization')"
      ]
     },
     "execution_count": 15,
     "metadata": {},
     "output_type": "execute_result"
    },
    {
     "data": {
      "image/png": "[encoded data removed]",
      "text/plain": [
       "<Figure size 432x288 with 1 Axes>"
      ]
     },
     "metadata": {
      "needs_background": "light"
     },
     "output_type": "display_data"
    }
   ],
   "source": [
    "plt.plot(lmbdas, RSS_lassos)\n",
    "plt.xlabel('$\\lambda$')\n",
    "plt.ylabel('RSS')\n",
    "plt.title('L1 Regularization')"
   ]
  },
  {
   "cell_type": "markdown",
   "metadata": {},
   "source": [
    "Q4\n",
    "> The magnitude of the features in X may affect the results with regularization. Since regularization puts constraints on the magnitude of the coefficients associated with each variable, features with different magnitude will be associated with coefficients with different magnitude, thus it will yield different RSS. "
   ]
  },
  {
   "cell_type": "code",
   "execution_count": 16,
   "metadata": {},
   "outputs": [
    {
     "name": "stdout",
     "output_type": "stream",
     "text": [
      "RSS for train dataset: 555.2223800211117, RSS for test dataset: 139.78663109167903\n"
     ]
    }
   ],
   "source": [
    "res_lasso_norm = minimize(fun=RSSL1, x0=beta0, args=(X_train_norm, y_train))\n",
    "beta_hat_norm = res_lasso_norm.x\n",
    "RSS_train_norm = RSS(beta_hat_norm, X_train_norm, y_train)\n",
    "RSS_test_norm = RSS(beta_hat_norm, X_test_norm, y_test)\n",
    "print(f'RSS for train dataset: {RSS_train_norm}, RSS for test dataset: {RSS_test_norm}')"
   ]
  },
  {
   "cell_type": "code",
   "execution_count": null,
   "metadata": {},
   "outputs": [],
   "source": []
  }
 ],
 "metadata": {
  "kernelspec": {
   "display_name": "Python 3",
   "language": "python",
   "name": "python3"
  },
  "language_info": {
   "codemirror_mode": {
    "name": "ipython",
    "version": 3
   },
   "file_extension": ".py",
   "mimetype": "text/x-python",
   "name": "python",
   "nbconvert_exporter": "python",
   "pygments_lexer": "ipython3",
   "version": "3.7.3"
  }
 },
 "nbformat": 4,
 "nbformat_minor": 2
}
